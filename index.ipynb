{
 "cells": [
  {
   "cell_type": "markdown",
   "metadata": {},
   "source": [
    "# ANOVA  - Lab\n",
    "\n",
    "## Introduction\n",
    "\n",
    "In this lab, you'll get some brief practice generating an ANOVA table (AOV) and interpreting its output. You'll also perform some investigations to compare the method to the t-tests you previously employed to conduct hypothesis testing.\n",
    "\n",
    "## Objectives\n",
    "\n",
    "In this lab you will: \n",
    "\n",
    "- Use ANOVA for testing multiple pairwise comparisons \n",
    "- Interpret results of an ANOVA and compare them to a t-test"
   ]
  },
  {
   "cell_type": "markdown",
   "metadata": {},
   "source": [
    "## Load the data\n",
    "\n",
    "Start by loading in the data stored in the file `'ToothGrowth.csv'`: "
   ]
  },
  {
   "cell_type": "code",
   "execution_count": 1,
   "metadata": {},
   "outputs": [],
   "source": [
    "# Your code here\n",
    "import pandas as pd\n",
    "import numpy as np\n",
    "import statsmodels.api as sm\n",
    "from statsmodels.formula.api import ols"
   ]
  },
  {
   "cell_type": "code",
   "execution_count": 6,
   "metadata": {},
   "outputs": [
    {
     "name": "stdout",
     "output_type": "stream",
     "text": [
      "    len supp  dose\n",
      "0   4.2   VC   0.5\n",
      "1  11.5   VC   0.5\n",
      "2   7.3   VC   0.5\n",
      "3   5.8   VC   0.5\n",
      "4   6.4   VC   0.5\n"
     ]
    },
    {
     "data": {
      "text/html": [
       "<div>\n",
       "<style scoped>\n",
       "    .dataframe tbody tr th:only-of-type {\n",
       "        vertical-align: middle;\n",
       "    }\n",
       "\n",
       "    .dataframe tbody tr th {\n",
       "        vertical-align: top;\n",
       "    }\n",
       "\n",
       "    .dataframe thead th {\n",
       "        text-align: right;\n",
       "    }\n",
       "</style>\n",
       "<table border=\"1\" class=\"dataframe\">\n",
       "  <thead>\n",
       "    <tr style=\"text-align: right;\">\n",
       "      <th></th>\n",
       "      <th>len</th>\n",
       "      <th>dose</th>\n",
       "    </tr>\n",
       "  </thead>\n",
       "  <tbody>\n",
       "    <tr>\n",
       "      <th>count</th>\n",
       "      <td>60.000000</td>\n",
       "      <td>60.000000</td>\n",
       "    </tr>\n",
       "    <tr>\n",
       "      <th>mean</th>\n",
       "      <td>18.813333</td>\n",
       "      <td>1.166667</td>\n",
       "    </tr>\n",
       "    <tr>\n",
       "      <th>std</th>\n",
       "      <td>7.649315</td>\n",
       "      <td>0.628872</td>\n",
       "    </tr>\n",
       "    <tr>\n",
       "      <th>min</th>\n",
       "      <td>4.200000</td>\n",
       "      <td>0.500000</td>\n",
       "    </tr>\n",
       "    <tr>\n",
       "      <th>25%</th>\n",
       "      <td>13.075000</td>\n",
       "      <td>0.500000</td>\n",
       "    </tr>\n",
       "    <tr>\n",
       "      <th>50%</th>\n",
       "      <td>19.250000</td>\n",
       "      <td>1.000000</td>\n",
       "    </tr>\n",
       "    <tr>\n",
       "      <th>75%</th>\n",
       "      <td>25.275000</td>\n",
       "      <td>2.000000</td>\n",
       "    </tr>\n",
       "    <tr>\n",
       "      <th>max</th>\n",
       "      <td>33.900000</td>\n",
       "      <td>2.000000</td>\n",
       "    </tr>\n",
       "  </tbody>\n",
       "</table>\n",
       "</div>"
      ],
      "text/plain": [
       "             len       dose\n",
       "count  60.000000  60.000000\n",
       "mean   18.813333   1.166667\n",
       "std     7.649315   0.628872\n",
       "min     4.200000   0.500000\n",
       "25%    13.075000   0.500000\n",
       "50%    19.250000   1.000000\n",
       "75%    25.275000   2.000000\n",
       "max    33.900000   2.000000"
      ]
     },
     "execution_count": 6,
     "metadata": {},
     "output_type": "execute_result"
    }
   ],
   "source": [
    "teeth = pd.read_csv('ToothGrowth.csv')\n",
    "print(teeth.head())\n",
    "teeth.describe()"
   ]
  },
  {
   "cell_type": "markdown",
   "metadata": {},
   "source": [
    "## Generate the ANOVA table\n",
    "\n",
    "Now generate an ANOVA table in order to analyze the influence of the medication and dosage:  "
   ]
  },
  {
   "cell_type": "markdown",
   "metadata": {},
   "source": [
    "In order to generate the ANOVA table, you first fit a linear model and then generate the table from this object. Our formula will be written as:\n",
    "\n",
    "Control_Column ~ C(factor_col1) + factor_col2 + C(factor_col3) + ... + X\n",
    "\n",
    "We indicate categorical variables by wrapping them with C(). "
   ]
  },
  {
   "cell_type": "code",
   "execution_count": 15,
   "metadata": {},
   "outputs": [
    {
     "name": "stdout",
     "output_type": "stream",
     "text": [
      "              sum_sq       df         F  PR(>F)\n",
      "C(supp)    205.35000  1.00000  11.44677 0.00130\n",
      "dose     2,224.30430  1.00000 123.98877 0.00000\n",
      "Residual 1,022.55504 57.00000       nan     nan\n"
     ]
    }
   ],
   "source": [
    "\n",
    "# set up pandas to display floats in a more human friendly way\n",
    "pd.options.display.float_format = '{:,.5f}'.format\n",
    "\n",
    "# Your code here\n",
    "formula = 'len ~ C(supp) + dose'\n",
    "lm = ols(formula, teeth).fit()\n",
    "table = sm.stats.anova_lm(lm, typ=2)\n",
    "\n",
    "print(table)"
   ]
  },
  {
   "cell_type": "markdown",
   "metadata": {},
   "source": [
    "## Interpret the output\n",
    "\n",
    "Make a brief comment regarding the statistics and the effect of supplement and dosage on tooth length: "
   ]
  },
  {
   "cell_type": "code",
   "execution_count": 16,
   "metadata": {},
   "outputs": [
    {
     "data": {
      "text/plain": [
       "'\\nValues less than 0.05 (or whatever we set 𝛼 to) indicate REJECTION of the null hypothesis. \\nH0/Null Hypothesis is that there is no effect by the treatment\\n\\nIn this case, notice that both factors appear influential,\\nwith dose being the potentially most significant, followed by suppliment.\\n'"
      ]
     },
     "execution_count": 16,
     "metadata": {},
     "output_type": "execute_result"
    }
   ],
   "source": [
    "# Your comment here\n",
    "'''\n",
    "Values less than 0.05 (or whatever we set 𝛼 to) indicate REJECTION of the null hypothesis. \n",
    "H0/Null Hypothesis is that there is no effect by the treatment\n",
    "\n",
    "In this case, notice that both factors appear influential,\n",
    "with dose being the potentially most significant, followed by suppliment.\n",
    "'''\n"
   ]
  },
  {
   "cell_type": "markdown",
   "metadata": {},
   "source": [
    "## Compare to t-tests\n",
    "\n",
    "Now that you've had a chance to generate an ANOVA table, its interesting to compare the results to those from the t-tests you were working with earlier. With that, start by breaking the data into two samples: those given the OJ supplement, and those given the VC supplement. Afterward, you'll conduct a t-test to compare the tooth length of these two different samples: "
   ]
  },
  {
   "cell_type": "code",
   "execution_count": 26,
   "metadata": {},
   "outputs": [
    {
     "name": "stdout",
     "output_type": "stream",
     "text": [
      "0    4.20000\n",
      "1   11.50000\n",
      "2    7.30000\n",
      "3    5.80000\n",
      "4    6.40000\n",
      "Name: len, dtype: float64\n"
     ]
    }
   ],
   "source": [
    "# Your code here\n",
    "oj_len = teeth[teeth['supp'] == 'OJ']['len']\n",
    "vc_len = teeth[teeth['supp'] == 'VC']['len']\n",
    "print(vc_len.head())"
   ]
  },
  {
   "cell_type": "markdown",
   "metadata": {},
   "source": [
    "Now run a t-test between these two groups and print the associated two-sided p-value: "
   ]
  },
  {
   "cell_type": "code",
   "execution_count": 28,
   "metadata": {},
   "outputs": [
    {
     "data": {
      "text/plain": [
       "0.06063450788093387"
      ]
     },
     "execution_count": 28,
     "metadata": {},
     "output_type": "execute_result"
    }
   ],
   "source": [
    "# Calculate the 2-sided p-value for a t-test comparing the two supplement groups\n",
    "\n",
    "from scipy import stats\n",
    "\n",
    "t_result = stats.ttest_ind(oj_len, vc_len, equal_var=False)\n",
    "t_result[1]"
   ]
  },
  {
   "cell_type": "markdown",
   "metadata": {},
   "source": [
    "## A 2-Category ANOVA F-test is equivalent to a 2-tailed t-test!\n",
    "\n",
    "Now, recalculate an ANOVA F-test with only the supplement variable. An ANOVA F-test between two categories is the same as performing a 2-tailed t-test! So, the p-value in the table should be identical to your calculation above.\n",
    "\n",
    "> Note: there may be a small fractional difference (>0.001) between the two values due to a rounding error between implementations. "
   ]
  },
  {
   "cell_type": "code",
   "execution_count": 30,
   "metadata": {},
   "outputs": [
    {
     "name": "stdout",
     "output_type": "stream",
     "text": [
      "              sum_sq       df       F  PR(>F)\n",
      "C(supp)    205.35000  1.00000 3.66825 0.06039\n",
      "Residual 3,246.85933 58.00000     nan     nan\n"
     ]
    }
   ],
   "source": [
    "# Your code here; conduct an ANOVA F-test of the oj and vc supplement groups.\n",
    "# Compare the p-value to that of the t-test above. \n",
    "# They should match (there may be a tiny fractional difference due to rounding errors in varying implementations)\n",
    "\n",
    "# Your code here\n",
    "formula_supp = 'len ~ C(supp)'\n",
    "lm = ols(formula_supp, teeth).fit()\n",
    "table = sm.stats.anova_lm(lm, typ=2)\n",
    "\n",
    "print(table)\n",
    "\n",
    "# COOL....they match"
   ]
  },
  {
   "cell_type": "markdown",
   "metadata": {},
   "source": [
    "## Run multiple t-tests\n",
    "\n",
    "While the 2-category ANOVA test is identical to a 2-tailed t-test, performing multiple t-tests leads to the multiple comparisons problem. To investigate this, look at the various sample groups you could create from the 2 features: "
   ]
  },
  {
   "cell_type": "code",
   "execution_count": 32,
   "metadata": {},
   "outputs": [
    {
     "name": "stdout",
     "output_type": "stream",
     "text": [
      "('OJ', 0.5)\n",
      "('OJ', 1.0)\n",
      "('OJ', 2.0)\n",
      "('VC', 0.5)\n",
      "('VC', 1.0)\n",
      "('VC', 2.0)\n"
     ]
    }
   ],
   "source": [
    "for group in teeth.groupby(['supp', 'dose'])['len']:\n",
    "    group_name = group[0]\n",
    "    data = group[1]\n",
    "    print(group_name)"
   ]
  },
  {
   "cell_type": "markdown",
   "metadata": {},
   "source": [
    "While bad practice, examine the effects of calculating multiple t-tests with the various combinations of these. To do this, generate all combinations of the above groups. For each pairwise combination, calculate the p-value of a 2-sided t-test. Print the group combinations and their associated p-value for the two-sided t-test."
   ]
  },
  {
   "cell_type": "code",
   "execution_count": null,
   "metadata": {},
   "outputs": [],
   "source": [
    "# Your code here; reuse your t-test code above to calculate the p-value for a 2-sided t-test\n",
    "# for all combinations of the supplement-dose groups listed above. \n",
    "# (Since there isn't a control group, compare each group to every other group.)"
   ]
  },
  {
   "cell_type": "markdown",
   "metadata": {},
   "source": [
    "## Summary\n",
    "\n",
    "In this lesson, you implemented the ANOVA technique to generalize testing methods to multiple groups and factors."
   ]
  }
 ],
 "metadata": {
  "kernelspec": {
   "display_name": "Python 3",
   "language": "python",
   "name": "python3"
  },
  "language_info": {
   "codemirror_mode": {
    "name": "ipython",
    "version": 3
   },
   "file_extension": ".py",
   "mimetype": "text/x-python",
   "name": "python",
   "nbconvert_exporter": "python",
   "pygments_lexer": "ipython3",
   "version": "3.6.9"
  }
 },
 "nbformat": 4,
 "nbformat_minor": 2
}
